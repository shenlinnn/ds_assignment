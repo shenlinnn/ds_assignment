{
 "cells": [
  {
   "cell_type": "code",
   "execution_count": 113,
   "metadata": {},
   "outputs": [],
   "source": [
    "import pandas_gbq\n",
    "import pandas as pd\n",
    "import numpy as np\n",
    "import geopy.distance\n",
    "import datetime\n",
    "import pytz\n",
    "import seaborn as sb\n",
    "from matplotlib import pyplot as plt\n",
    "import warnings\n",
    "warnings.filterwarnings(\"ignore\")"
   ]
  },
  {
   "cell_type": "code",
   "execution_count": 28,
   "metadata": {},
   "outputs": [],
   "source": [
    "from sklearn.metrics import accuracy_score\n",
    "from sklearn.linear_model import LogisticRegression\n",
    "from sklearn.model_selection import GridSearchCV\n",
    "from sklearn.model_selection import cross_val_score\n",
    "from sklearn import preprocessing\n",
    "from sklearn.model_selection import train_test_split\n",
    "from sklearn.metrics import confusion_matrix"
   ]
  },
  {
   "cell_type": "markdown",
   "metadata": {},
   "source": [
    "## Data ##"
   ]
  },
  {
   "cell_type": "markdown",
   "metadata": {},
   "source": [
    "### load data from GCP ###"
   ]
  },
  {
   "cell_type": "code",
   "execution_count": 2,
   "metadata": {},
   "outputs": [],
   "source": [
    "project_id='ds-assignments'\n",
    "\n",
    "booking_log = pandas_gbq.read_gbq('SELECT * FROM go_ride_allocation.booking_log', project_id=project_id, dialect='legacy')\n",
    "driver_log = pandas_gbq.read_gbq('SELECT * FROM go_ride_allocation.participant_log', project_id=project_id, dialect='legacy')\n",
    "test_data = pandas_gbq.read_gbq('SELECT * FROM go_ride_allocation.test_data', project_id=project_id, dialect='legacy')"
   ]
  },
  {
   "cell_type": "markdown",
   "metadata": {},
   "source": [
    "### EDA on GCP raw data ###"
   ]
  },
  {
   "cell_type": "code",
   "execution_count": 8,
   "metadata": {},
   "outputs": [
    {
     "name": "stdout",
     "output_type": "stream",
     "text": [
      "booking_log\n",
      "total row count: 699212\n",
      "distinct row count: 698233\n",
      "distinct count of ['order_id', 'booking_status', 'driver_id']: 698232\n",
      "-------------------------\n",
      "participant_log\n",
      "total row count: 400230\n",
      "distinct row count: 400104\n",
      "distinct count of ['order_id', 'driver_id']: 200619\n",
      "-------------------------\n",
      "test_data\n",
      "total row count: 100000\n",
      "distinct row count: 99980\n",
      "distinct count of ['order_id', 'driver_id']: 99976\n"
     ]
    }
   ],
   "source": [
    "# booking_log\n",
    "print('booking_log')\n",
    "print('total row count: %s' % len(booking_log))\n",
    "print('distinct row count: %s' % len(booking_log.drop_duplicates()))\n",
    "print(\"distinct count of ['order_id', 'booking_status', 'driver_id']: %s\" % len(booking_log[['order_id', 'booking_status', 'driver_id']].drop_duplicates()))\n",
    "print('-------------------------')\n",
    "\n",
    "# participant_log\n",
    "print('participant_log')\n",
    "print('total row count: %s' % len(driver_log))\n",
    "print('distinct row count: %s' % len(driver_log.drop_duplicates()))\n",
    "print(\"distinct count of ['order_id', 'driver_id']: %s\" % len(driver_log[['order_id', 'driver_id']].drop_duplicates()))\n",
    "print('-------------------------')\n",
    "\n",
    "# test_data\n",
    "print('test_data')\n",
    "print('total row count: %s' % len(test_data))\n",
    "print('distinct row count: %s' % len(test_data.drop_duplicates()))\n",
    "print(\"distinct count of ['order_id', 'driver_id']: %s\" % len(test_data[['order_id', 'driver_id']].drop_duplicates()))"
   ]
  },
  {
   "cell_type": "markdown",
   "metadata": {},
   "source": [
    "<font color='blue'> duplicated records are observed in all 3 logs <br>\n",
    "<font color='blue'> besides duplicates, a booking order may have different attributes recorded <br>"
   ]
  },
  {
   "cell_type": "code",
   "execution_count": 9,
   "metadata": {},
   "outputs": [
    {
     "name": "stdout",
     "output_type": "stream",
     "text": [
      "order_id has no \"CREATED\" booking status: 156\n",
      "count of above order_id appear in participant_log: 0\n"
     ]
    }
   ],
   "source": [
    "created_order = booking_log[booking_log.booking_status=='CREATED'][['order_id']].drop_duplicates()\n",
    "all_order = booking_log[['order_id']].drop_duplicates()\n",
    "\n",
    "print('order_id has no \"CREATED\" booking status: %s' % len(all_order[~all_order.order_id.isin(created_order.order_id)]))\n",
    "\n",
    "diff = all_order[~all_order.order_id.isin(created_order.order_id)]\n",
    "print('count of above order_id appear in participant_log: %s' % len(pd.merge(diff, driver, on='order_id')))"
   ]
  },
  {
   "cell_type": "markdown",
   "metadata": {},
   "source": [
    "<font color='blue'> not all bookings having CREATED booking_status recorded in booking_log <br>\n",
    "<font color='blue'> but those missing orders also have no corresponding log in participant_log\n"
   ]
  },
  {
   "cell_type": "markdown",
   "metadata": {},
   "source": [
    "### preprocessing on raw GCP data ###"
   ]
  },
  {
   "cell_type": "markdown",
   "metadata": {},
   "source": [
    "datetime attribute is handled using **minimum** method<br>\n",
    "other attributes such as location coordinates, distance and gps accuracy are handled using **mean**"
   ]
  },
  {
   "cell_type": "code",
   "execution_count": 103,
   "metadata": {},
   "outputs": [],
   "source": [
    "agg_booking = {'event_timestamp': 'min', 'trip_distance': 'mean', 'pickup_latitude': 'mean', 'pickup_longitude': 'mean'}\n",
    "booking = booking_log.drop_duplicates().fillna('').groupby(['order_id', 'booking_status', 'driver_id'], as_index=False).agg(agg_booking)\n",
    "\n",
    "agg_driver = {'driver_latitude': 'mean', 'driver_longitude': 'mean', 'driver_gps_accuracy': 'mean'}\n",
    "driver = driver_log.drop_duplicates().groupby(['order_id', 'driver_id'], as_index=False).agg(agg_driver)\n",
    "\n",
    "agg_test = {'event_timestamp': 'min', 'trip_distance': 'mean', 'pickup_latitude': 'mean', 'pickup_longitude': 'mean', 'driver_latitude': 'mean', 'driver_longitude': 'mean', 'driver_gps_accuracy': 'mean'}\n",
    "test = test_data.drop_duplicates().groupby(['order_id', 'driver_id'], as_index=False).agg(agg_test)"
   ]
  },
  {
   "cell_type": "markdown",
   "metadata": {},
   "source": [
    "## Features ##"
   ]
  },
  {
   "cell_type": "markdown",
   "metadata": {},
   "source": [
    "### data transformation ###"
   ]
  },
  {
   "cell_type": "markdown",
   "metadata": {},
   "source": [
    "create base dataset, each row represents one **booking allocation** <br>\n",
    "**output** indicates whether the allocation trip is completed <br>\n",
    "having the same columns as test, except output (to be predicted for test data)<br>"
   ]
  },
  {
   "cell_type": "code",
   "execution_count": 10,
   "metadata": {},
   "outputs": [],
   "source": [
    "created_booking_cols = ['event_timestamp', 'order_id','trip_distance', 'pickup_latitude', 'pickup_longitude']\n",
    "created = booking[booking.booking_status =='CREATED'][created_booking_cols]\n",
    "\n",
    "completed_booking_cols = ['order_id', 'driver_id']\n",
    "completed = booking[booking.booking_status == 'COMPLETED'][completed_booking_cols]\n",
    "\n",
    "booking_base = pd.merge(created, completed, on=['order_id'], how='left').rename(columns={'driver_id':'booking_driver_id'})\n",
    "\n",
    "driver_cols = ['order_id', 'driver_id', 'driver_latitude', 'driver_longitude', 'driver_gps_accuracy']\n",
    "driver_base = driver[driver_cols]\n",
    "\n",
    "dataset = pd.merge(driver_base, booking_base, on=['order_id'], how='left')\n",
    "dataset['output'] = np.where(dataset['driver_id'] == dataset['booking_driver_id'], 1, 0)\n",
    "dataset = dataset.drop(columns = \"booking_driver_id\")"
   ]
  },
  {
   "cell_type": "code",
   "execution_count": 11,
   "metadata": {},
   "outputs": [
    {
     "data": {
      "text/html": [
       "<div>\n",
       "<style scoped>\n",
       "    .dataframe tbody tr th:only-of-type {\n",
       "        vertical-align: middle;\n",
       "    }\n",
       "\n",
       "    .dataframe tbody tr th {\n",
       "        vertical-align: top;\n",
       "    }\n",
       "\n",
       "    .dataframe thead th {\n",
       "        text-align: right;\n",
       "    }\n",
       "</style>\n",
       "<table border=\"1\" class=\"dataframe\">\n",
       "  <thead>\n",
       "    <tr style=\"text-align: right;\">\n",
       "      <th></th>\n",
       "      <th>order_id</th>\n",
       "      <th>driver_id</th>\n",
       "      <th>driver_latitude</th>\n",
       "      <th>driver_longitude</th>\n",
       "      <th>driver_gps_accuracy</th>\n",
       "      <th>event_timestamp</th>\n",
       "      <th>trip_distance</th>\n",
       "      <th>pickup_latitude</th>\n",
       "      <th>pickup_longitude</th>\n",
       "      <th>output</th>\n",
       "    </tr>\n",
       "  </thead>\n",
       "  <tbody>\n",
       "    <tr>\n",
       "      <th>0</th>\n",
       "      <td>100004630900</td>\n",
       "      <td>576094811632</td>\n",
       "      <td>-2.960315</td>\n",
       "      <td>104.783728</td>\n",
       "      <td>7.000</td>\n",
       "      <td>2015-05-12 00:21:29.932000+00:00</td>\n",
       "      <td>1.006</td>\n",
       "      <td>-2.961099</td>\n",
       "      <td>104.783248</td>\n",
       "      <td>1</td>\n",
       "    </tr>\n",
       "    <tr>\n",
       "      <th>1</th>\n",
       "      <td>100005695817</td>\n",
       "      <td>100995600755</td>\n",
       "      <td>-2.983461</td>\n",
       "      <td>104.764434</td>\n",
       "      <td>6.607</td>\n",
       "      <td>2015-05-16 02:09:16.187000+00:00</td>\n",
       "      <td>1.147</td>\n",
       "      <td>-2.983429</td>\n",
       "      <td>104.764502</td>\n",
       "      <td>1</td>\n",
       "    </tr>\n",
       "    <tr>\n",
       "      <th>2</th>\n",
       "      <td>100021292050</td>\n",
       "      <td>916245898577</td>\n",
       "      <td>-2.979674</td>\n",
       "      <td>104.725359</td>\n",
       "      <td>0.010</td>\n",
       "      <td>2015-05-10 13:26:24.313000+00:00</td>\n",
       "      <td>0.916</td>\n",
       "      <td>-2.979492</td>\n",
       "      <td>104.725380</td>\n",
       "      <td>1</td>\n",
       "    </tr>\n",
       "    <tr>\n",
       "      <th>3</th>\n",
       "      <td>100022287505</td>\n",
       "      <td>636669438942</td>\n",
       "      <td>-2.975698</td>\n",
       "      <td>104.766467</td>\n",
       "      <td>23.725</td>\n",
       "      <td>2015-05-12 09:50:51.244000+00:00</td>\n",
       "      <td>2.549</td>\n",
       "      <td>-2.975749</td>\n",
       "      <td>104.766420</td>\n",
       "      <td>1</td>\n",
       "    </tr>\n",
       "    <tr>\n",
       "      <th>4</th>\n",
       "      <td>100024200607</td>\n",
       "      <td>747772570290</td>\n",
       "      <td>-2.928422</td>\n",
       "      <td>104.697199</td>\n",
       "      <td>98.772</td>\n",
       "      <td>2015-05-11 04:50:26.537000+00:00</td>\n",
       "      <td>1.233</td>\n",
       "      <td>-2.929680</td>\n",
       "      <td>104.694121</td>\n",
       "      <td>1</td>\n",
       "    </tr>\n",
       "  </tbody>\n",
       "</table>\n",
       "</div>"
      ],
      "text/plain": [
       "       order_id     driver_id  driver_latitude  driver_longitude  \\\n",
       "0  100004630900  576094811632        -2.960315        104.783728   \n",
       "1  100005695817  100995600755        -2.983461        104.764434   \n",
       "2  100021292050  916245898577        -2.979674        104.725359   \n",
       "3  100022287505  636669438942        -2.975698        104.766467   \n",
       "4  100024200607  747772570290        -2.928422        104.697199   \n",
       "\n",
       "   driver_gps_accuracy                   event_timestamp  trip_distance  \\\n",
       "0                7.000  2015-05-12 00:21:29.932000+00:00          1.006   \n",
       "1                6.607  2015-05-16 02:09:16.187000+00:00          1.147   \n",
       "2                0.010  2015-05-10 13:26:24.313000+00:00          0.916   \n",
       "3               23.725  2015-05-12 09:50:51.244000+00:00          2.549   \n",
       "4               98.772  2015-05-11 04:50:26.537000+00:00          1.233   \n",
       "\n",
       "   pickup_latitude  pickup_longitude  output  \n",
       "0        -2.961099        104.783248       1  \n",
       "1        -2.983429        104.764502       1  \n",
       "2        -2.979492        104.725380       1  \n",
       "3        -2.975749        104.766420       1  \n",
       "4        -2.929680        104.694121       1  "
      ]
     },
     "execution_count": 11,
     "metadata": {},
     "output_type": "execute_result"
    }
   ],
   "source": [
    "dataset.head()"
   ]
  },
  {
   "cell_type": "code",
   "execution_count": 21,
   "metadata": {},
   "outputs": [
    {
     "data": {
      "text/plain": [
       "1    152030\n",
       "0     48589\n",
       "Name: output, dtype: int64"
      ]
     },
     "execution_count": 21,
     "metadata": {},
     "output_type": "execute_result"
    }
   ],
   "source": [
    "dataset['output'].value_counts()"
   ]
  },
  {
   "cell_type": "markdown",
   "metadata": {},
   "source": [
    "<font color='blue'> distribution between two classes is imbalanced, but not to extreme extent\n",
    "   "
   ]
  },
  {
   "cell_type": "markdown",
   "metadata": {},
   "source": [
    "### feature engineering###"
   ]
  },
  {
   "cell_type": "markdown",
   "metadata": {},
   "source": [
    "create new features"
   ]
  },
  {
   "cell_type": "code",
   "execution_count": 93,
   "metadata": {},
   "outputs": [],
   "source": [
    "# store new features to a new dataframe\n",
    "\n",
    "df = dataset.copy()"
   ]
  },
  {
   "cell_type": "markdown",
   "metadata": {},
   "source": [
    "**pickup_distance**"
   ]
  },
  {
   "cell_type": "code",
   "execution_count": 94,
   "metadata": {},
   "outputs": [],
   "source": [
    "# distance between pickup and driver location\n",
    "\n",
    "def cal_dist(row):\n",
    "    lat_x, long_x, lat_y, long_y = row['pickup_latitude'], row['pickup_longitude'], row['driver_latitude'], row['driver_longitude']\n",
    "    coord_x = (lat_x, long_x)\n",
    "    coord_y = (lat_y, long_y)\n",
    "    return geopy.distance.distance(coord_x, coord_y).km\n",
    "\n",
    "df['pickup_distance'] = df.apply(cal_dist, axis=1)"
   ]
  },
  {
   "cell_type": "markdown",
   "metadata": {},
   "source": [
    "**is_peak**"
   ]
  },
  {
   "cell_type": "code",
   "execution_count": 95,
   "metadata": {},
   "outputs": [],
   "source": [
    "# check is booking CREATED timestamp is in peak hour \n",
    "# peak hour: defined by gojek official website, considering Jarkata timezone (https://www.go-jek.com/sg/blog/new-driver-incentives-gojek-driver-singapore-accelerate/)\n",
    "\n",
    "local_tz = pytz.timezone('Asia/Jakarta')\n",
    "\n",
    "def is_peak(row):\n",
    "    utc_ts = row['event_timestamp']\n",
    "    local_dt = utc_ts.replace(tzinfo=pytz.utc).astimezone(local_tz)\n",
    "    \n",
    "    day = local_dt.isoweekday()\n",
    "    time = local_dt.time()\n",
    "    \n",
    "    if 1 <= day <= 4:\n",
    "        if ((time >= datetime.time(7, 0)) and (time <= datetime.time(10, 0))) | ((time >= datetime.time(17, 0)) and (time <= datetime.time(20, 0))):\n",
    "            return 1\n",
    "        else:\n",
    "            return 0\n",
    "    else:\n",
    "        if ((time >= datetime.time(8, 0)) and (time <= datetime.time(10, 0))) | ((time >= datetime.time(17, 0)) and (time <= datetime.time(23, 59))):\n",
    "            return 1\n",
    "        else:\n",
    "            return 0\n",
    "\n",
    "df['is_peak'] = df.apply(is_peak, axis=1)"
   ]
  },
  {
   "cell_type": "markdown",
   "metadata": {},
   "source": [
    "**total_failed**"
   ]
  },
  {
   "cell_type": "code",
   "execution_count": 96,
   "metadata": {},
   "outputs": [],
   "source": [
    "# number of times a driver is allocated but failed to complete trip (regardless failure reason)\n",
    "\n",
    "df['failed'] = np.where(df['output'] == 1, 0, 1)\n",
    "failed = df.groupby(['driver_id'], as_index=False)['failed'].sum().rename(columns={'failed': 'total_failed'})\n",
    "df = pd.merge(df, failed, on ='driver_id')"
   ]
  },
  {
   "cell_type": "markdown",
   "metadata": {},
   "source": [
    "**total_completed**"
   ]
  },
  {
   "cell_type": "code",
   "execution_count": 97,
   "metadata": {},
   "outputs": [],
   "source": [
    "# number of times a driver completes trip \n",
    "\n",
    "df['completed'] = np.where(df['output'] == 1, 1, 0)\n",
    "completed = df.groupby(['driver_id'], as_index=False)['completed'].sum().rename(columns={'completed': 'total_completed'})\n",
    "df = pd.merge(df, completed, on ='driver_id')"
   ]
  },
  {
   "cell_type": "markdown",
   "metadata": {},
   "source": [
    "final dataset for modelling"
   ]
  },
  {
   "cell_type": "code",
   "execution_count": 98,
   "metadata": {},
   "outputs": [],
   "source": [
    "# features selected for modelling \n",
    "x_cols = ['trip_distance', 'driver_gps_accuracy', 'pickup_distance', 'is_peak', 'total_failed', 'total_completed']\n",
    "X = df[x_cols]\n",
    "y = df['output']"
   ]
  },
  {
   "cell_type": "code",
   "execution_count": 99,
   "metadata": {},
   "outputs": [
    {
     "data": {
      "text/html": [
       "<div>\n",
       "<style scoped>\n",
       "    .dataframe tbody tr th:only-of-type {\n",
       "        vertical-align: middle;\n",
       "    }\n",
       "\n",
       "    .dataframe tbody tr th {\n",
       "        vertical-align: top;\n",
       "    }\n",
       "\n",
       "    .dataframe thead th {\n",
       "        text-align: right;\n",
       "    }\n",
       "</style>\n",
       "<table border=\"1\" class=\"dataframe\">\n",
       "  <thead>\n",
       "    <tr style=\"text-align: right;\">\n",
       "      <th></th>\n",
       "      <th>trip_distance</th>\n",
       "      <th>driver_gps_accuracy</th>\n",
       "      <th>pickup_distance</th>\n",
       "      <th>is_peak</th>\n",
       "      <th>total_failed</th>\n",
       "      <th>total_completed</th>\n",
       "    </tr>\n",
       "  </thead>\n",
       "  <tbody>\n",
       "    <tr>\n",
       "      <th>0</th>\n",
       "      <td>1.006</td>\n",
       "      <td>7.000</td>\n",
       "      <td>0.101787</td>\n",
       "      <td>1</td>\n",
       "      <td>1</td>\n",
       "      <td>6</td>\n",
       "    </tr>\n",
       "    <tr>\n",
       "      <th>1</th>\n",
       "      <td>4.741</td>\n",
       "      <td>6.434</td>\n",
       "      <td>0.176952</td>\n",
       "      <td>1</td>\n",
       "      <td>1</td>\n",
       "      <td>6</td>\n",
       "    </tr>\n",
       "    <tr>\n",
       "      <th>2</th>\n",
       "      <td>8.314</td>\n",
       "      <td>3.900</td>\n",
       "      <td>0.288710</td>\n",
       "      <td>0</td>\n",
       "      <td>1</td>\n",
       "      <td>6</td>\n",
       "    </tr>\n",
       "    <tr>\n",
       "      <th>3</th>\n",
       "      <td>5.903</td>\n",
       "      <td>14.000</td>\n",
       "      <td>0.190100</td>\n",
       "      <td>1</td>\n",
       "      <td>1</td>\n",
       "      <td>6</td>\n",
       "    </tr>\n",
       "    <tr>\n",
       "      <th>4</th>\n",
       "      <td>1.511</td>\n",
       "      <td>3.000</td>\n",
       "      <td>0.137013</td>\n",
       "      <td>0</td>\n",
       "      <td>1</td>\n",
       "      <td>6</td>\n",
       "    </tr>\n",
       "  </tbody>\n",
       "</table>\n",
       "</div>"
      ],
      "text/plain": [
       "   trip_distance  driver_gps_accuracy  pickup_distance  is_peak  total_failed  \\\n",
       "0          1.006                7.000         0.101787        1             1   \n",
       "1          4.741                6.434         0.176952        1             1   \n",
       "2          8.314                3.900         0.288710        0             1   \n",
       "3          5.903               14.000         0.190100        1             1   \n",
       "4          1.511                3.000         0.137013        0             1   \n",
       "\n",
       "   total_completed  \n",
       "0                6  \n",
       "1                6  \n",
       "2                6  \n",
       "3                6  \n",
       "4                6  "
      ]
     },
     "execution_count": 99,
     "metadata": {},
     "output_type": "execute_result"
    }
   ],
   "source": [
    "X.head()"
   ]
  },
  {
   "cell_type": "code",
   "execution_count": 23,
   "metadata": {},
   "outputs": [
    {
     "data": {
      "text/plain": [
       "0    1\n",
       "1    1\n",
       "2    1\n",
       "3    1\n",
       "4    1\n",
       "Name: output, dtype: int64"
      ]
     },
     "execution_count": 23,
     "metadata": {},
     "output_type": "execute_result"
    }
   ],
   "source": [
    "y.head()"
   ]
  },
  {
   "cell_type": "markdown",
   "metadata": {},
   "source": [
    "## Models ##"
   ]
  },
  {
   "cell_type": "markdown",
   "metadata": {},
   "source": [
    "#### train, validation split "
   ]
  },
  {
   "cell_type": "code",
   "execution_count": 79,
   "metadata": {},
   "outputs": [],
   "source": [
    "X_train, X_validate, y_train, y_validate = train_test_split(X, y, test_size=0.33, random_state=42, stratify=y)"
   ]
  },
  {
   "cell_type": "markdown",
   "metadata": {},
   "source": [
    "### baseline model: Non-ML "
   ]
  },
  {
   "cell_type": "code",
   "execution_count": 80,
   "metadata": {},
   "outputs": [
    {
     "data": {
      "image/png": "[encoded data removed]",
      "text/plain": [
       "<Figure size 432x288 with 1 Axes>"
      ]
     },
     "metadata": {
      "needs_background": "light"
     },
     "output_type": "display_data"
    }
   ],
   "source": [
    "train = pd.concat([X_train, y_train], axis=1)\n",
    "\n",
    "bins = np.linspace(0, 1.2, 1000)\n",
    "\n",
    "output_1 = train[train.output==1]\n",
    "output_0 = train[train.output==0]\n",
    "\n",
    "plt.hist(output_1['pickup_distance'], bins, alpha=0.5, label='1')\n",
    "plt.hist(output_0['pickup_distance'], bins, alpha=0.5, label='0')\n",
    "plt.legend(loc='upper right')\n",
    "plt.show()"
   ]
  },
  {
   "cell_type": "markdown",
   "metadata": {},
   "source": [
    "<font color='blue'> rule based, observed higher density of failed trip when pickup_distance > 0.4 from the plot\n"
   ]
  },
  {
   "cell_type": "code",
   "execution_count": 81,
   "metadata": {},
   "outputs": [
    {
     "name": "stdout",
     "output_type": "stream",
     "text": [
      "accuracy\n",
      "0.6840570953855449\n",
      "-----------\n",
      "confusion matrix\n",
      "[[ 6208  9827]\n",
      " [11090 39080]]\n"
     ]
    }
   ],
   "source": [
    "y_rule = np.where(X_validate['pickup_distance'] > 0.4, 0, 1)\n",
    "print('accuracy')\n",
    "print(accuracy_score(y_validate, y_rule))\n",
    "print('-----------')\n",
    "print('confusion matrix')\n",
    "print(confusion_matrix(y_validate, y_rule))"
   ]
  },
  {
   "cell_type": "markdown",
   "metadata": {},
   "source": [
    "### ML model ###"
   ]
  },
  {
   "cell_type": "markdown",
   "metadata": {},
   "source": [
    "**business problem**: predict for each booking order_id, which candidate driver_id is more likely to complete trip <br>\n",
    "**logistics regression** is used for modelling: able to predict probability of completing trip, rank candidate driver based on calculated probability, allocate to the highest"
   ]
  },
  {
   "cell_type": "markdown",
   "metadata": {},
   "source": [
    "#### default"
   ]
  },
  {
   "cell_type": "code",
   "execution_count": 82,
   "metadata": {},
   "outputs": [
    {
     "name": "stdout",
     "output_type": "stream",
     "text": [
      "accuracy\n",
      "0.7817687485839439\n",
      "-----------\n",
      "confusion matrix\n",
      "[[ 3572 12463]\n",
      " [ 1985 48185]]\n"
     ]
    }
   ],
   "source": [
    "lr = LogisticRegression(random_state=42)\n",
    "lr.fit(X_train, y_train)\n",
    "y_lr = lr.predict(X_validate)\n",
    "\n",
    "print('accuracy')\n",
    "print(accuracy_score(y_validate, y_lr))\n",
    "print('-----------')\n",
    "print('confusion matrix')\n",
    "print(confusion_matrix(y_validate, y_lr))"
   ]
  },
  {
   "cell_type": "markdown",
   "metadata": {},
   "source": [
    "<font color='blue'> LR has higher accuracy than rule based model, but also higher false positive "
   ]
  },
  {
   "cell_type": "markdown",
   "metadata": {},
   "source": [
    "#### parameter tuning"
   ]
  },
  {
   "cell_type": "code",
   "execution_count": 83,
   "metadata": {},
   "outputs": [
    {
     "name": "stdout",
     "output_type": "stream",
     "text": [
      "Accuracy: 0.70037199, penalty: l1, solver: liblinear, class_weight: balanced\n",
      "Accuracy: 0.78100774, penalty: l1, solver: liblinear, class_weight: None\n",
      "Accuracy: 0.64687707, penalty: l1, solver: saga, class_weight: balanced\n",
      "Accuracy: 0.78383399, penalty: l1, solver: saga, class_weight: None\n",
      "Accuracy: 0.70038694, penalty: l2, solver: newton-cg, class_weight: balanced\n",
      "Accuracy: 0.78101771, penalty: l2, solver: newton-cg, class_weight: None\n",
      "Accuracy: 0.70040688, penalty: l2, solver: lbfgs, class_weight: balanced\n",
      "Accuracy: 0.78100774, penalty: l2, solver: lbfgs, class_weight: None\n",
      "Accuracy: 0.64734063, penalty: l2, solver: sag, class_weight: balanced\n",
      "Accuracy: 0.78456673, penalty: l2, solver: sag, class_weight: None\n",
      "Accuracy: 0.65036129, penalty: l2, solver: saga, class_weight: balanced\n",
      "Accuracy: 0.78614190, penalty: l2, solver: saga, class_weight: None\n"
     ]
    }
   ],
   "source": [
    "penalty_solver_pair = [('l1', 'liblinear'), ('l1', 'saga'), ('l2', 'newton-cg'), ('l2', 'lbfgs'), ('l2', 'sag'),\n",
    "                       ('l2', 'saga')]\n",
    "\n",
    "class_weight_list = ['balanced', None]\n",
    "for pair in penalty_solver_pair:\n",
    "    for class_weight in class_weight_list:\n",
    "        penalty = pair[0]\n",
    "        solver = pair[1]\n",
    "        clf = LogisticRegression(random_state=42, penalty=penalty, solver=solver, class_weight=class_weight)\n",
    "        scores = cross_val_score(clf, X, y, cv=5, scoring='accuracy')\n",
    "        print(\"Accuracy: %0.8f, penalty: %s, solver: %s, class_weight: %s\" % (scores.mean(), penalty, solver, class_weight))"
   ]
  },
  {
   "cell_type": "markdown",
   "metadata": {},
   "source": [
    "#### train final model"
   ]
  },
  {
   "cell_type": "code",
   "execution_count": 100,
   "metadata": {},
   "outputs": [
    {
     "data": {
      "text/plain": [
       "LogisticRegression(C=1.0, class_weight=None, dual=False, fit_intercept=True,\n",
       "          intercept_scaling=1, max_iter=100, multi_class='warn',\n",
       "          n_jobs=None, penalty='l2', random_state=42, solver='saga',\n",
       "          tol=0.0001, verbose=0, warm_start=False)"
      ]
     },
     "execution_count": 100,
     "metadata": {},
     "output_type": "execute_result"
    }
   ],
   "source": [
    "lr_final = LogisticRegression(random_state=42, solver='saga', penalty = 'l2')\n",
    "lr_final.fit(X, y)"
   ]
  },
  {
   "cell_type": "markdown",
   "metadata": {},
   "source": [
    "#### apply model to test data"
   ]
  },
  {
   "cell_type": "markdown",
   "metadata": {},
   "source": [
    "transform test data"
   ]
  },
  {
   "cell_type": "code",
   "execution_count": 105,
   "metadata": {
    "scrolled": true
   },
   "outputs": [],
   "source": [
    "test['pickup_distance'] = test.apply(cal_dist, axis=1)\n",
    "test['is_peak'] = test.apply(is_peak, axis=1)\n",
    "test = pd.merge(test, failed, on='driver_id', how='left').fillna(0)\n",
    "test = pd.merge(test, completed, on='driver_id', how='left').fillna(0)\n",
    "X_test = test[x_cols]"
   ]
  },
  {
   "cell_type": "code",
   "execution_count": 106,
   "metadata": {},
   "outputs": [
    {
     "data": {
      "text/html": [
       "<div>\n",
       "<style scoped>\n",
       "    .dataframe tbody tr th:only-of-type {\n",
       "        vertical-align: middle;\n",
       "    }\n",
       "\n",
       "    .dataframe tbody tr th {\n",
       "        vertical-align: top;\n",
       "    }\n",
       "\n",
       "    .dataframe thead th {\n",
       "        text-align: right;\n",
       "    }\n",
       "</style>\n",
       "<table border=\"1\" class=\"dataframe\">\n",
       "  <thead>\n",
       "    <tr style=\"text-align: right;\">\n",
       "      <th></th>\n",
       "      <th>order_id</th>\n",
       "      <th>driver_id</th>\n",
       "      <th>event_timestamp</th>\n",
       "      <th>trip_distance</th>\n",
       "      <th>pickup_latitude</th>\n",
       "      <th>pickup_longitude</th>\n",
       "      <th>driver_latitude</th>\n",
       "      <th>driver_longitude</th>\n",
       "      <th>driver_gps_accuracy</th>\n",
       "      <th>pickup_distance</th>\n",
       "      <th>is_peak</th>\n",
       "      <th>total_failed</th>\n",
       "      <th>total_completed</th>\n",
       "    </tr>\n",
       "  </thead>\n",
       "  <tbody>\n",
       "    <tr>\n",
       "      <th>0</th>\n",
       "      <td>100042151807</td>\n",
       "      <td>137117322088</td>\n",
       "      <td>2015-05-20 00:59:37.049000+00:00</td>\n",
       "      <td>3.632</td>\n",
       "      <td>-2.965536</td>\n",
       "      <td>104.744296</td>\n",
       "      <td>-2.963353</td>\n",
       "      <td>104.742086</td>\n",
       "      <td>13.653</td>\n",
       "      <td>0.344469</td>\n",
       "      <td>1</td>\n",
       "      <td>4.0</td>\n",
       "      <td>23.0</td>\n",
       "    </tr>\n",
       "    <tr>\n",
       "      <th>1</th>\n",
       "      <td>100042151807</td>\n",
       "      <td>282897339267</td>\n",
       "      <td>2015-05-20 00:59:37.049000+00:00</td>\n",
       "      <td>3.632</td>\n",
       "      <td>-2.965536</td>\n",
       "      <td>104.744296</td>\n",
       "      <td>-2.965061</td>\n",
       "      <td>104.745766</td>\n",
       "      <td>3.000</td>\n",
       "      <td>0.171743</td>\n",
       "      <td>1</td>\n",
       "      <td>5.0</td>\n",
       "      <td>35.0</td>\n",
       "    </tr>\n",
       "    <tr>\n",
       "      <th>2</th>\n",
       "      <td>100042151807</td>\n",
       "      <td>317503731945</td>\n",
       "      <td>2015-05-20 00:59:37.049000+00:00</td>\n",
       "      <td>3.632</td>\n",
       "      <td>-2.965536</td>\n",
       "      <td>104.744296</td>\n",
       "      <td>-2.965304</td>\n",
       "      <td>104.748621</td>\n",
       "      <td>3.329</td>\n",
       "      <td>0.481516</td>\n",
       "      <td>1</td>\n",
       "      <td>0.0</td>\n",
       "      <td>14.0</td>\n",
       "    </tr>\n",
       "    <tr>\n",
       "      <th>3</th>\n",
       "      <td>100042151807</td>\n",
       "      <td>407392911299</td>\n",
       "      <td>2015-05-20 00:59:37.049000+00:00</td>\n",
       "      <td>3.632</td>\n",
       "      <td>-2.965536</td>\n",
       "      <td>104.744296</td>\n",
       "      <td>-2.967921</td>\n",
       "      <td>104.740048</td>\n",
       "      <td>11.954</td>\n",
       "      <td>0.540894</td>\n",
       "      <td>1</td>\n",
       "      <td>9.0</td>\n",
       "      <td>28.0</td>\n",
       "    </tr>\n",
       "    <tr>\n",
       "      <th>4</th>\n",
       "      <td>100042151807</td>\n",
       "      <td>493239186093</td>\n",
       "      <td>2015-05-20 00:59:37.049000+00:00</td>\n",
       "      <td>3.632</td>\n",
       "      <td>-2.965536</td>\n",
       "      <td>104.744296</td>\n",
       "      <td>-2.966512</td>\n",
       "      <td>104.748142</td>\n",
       "      <td>13.200</td>\n",
       "      <td>0.441037</td>\n",
       "      <td>1</td>\n",
       "      <td>5.0</td>\n",
       "      <td>37.0</td>\n",
       "    </tr>\n",
       "  </tbody>\n",
       "</table>\n",
       "</div>"
      ],
      "text/plain": [
       "       order_id     driver_id                  event_timestamp  trip_distance  \\\n",
       "0  100042151807  137117322088 2015-05-20 00:59:37.049000+00:00          3.632   \n",
       "1  100042151807  282897339267 2015-05-20 00:59:37.049000+00:00          3.632   \n",
       "2  100042151807  317503731945 2015-05-20 00:59:37.049000+00:00          3.632   \n",
       "3  100042151807  407392911299 2015-05-20 00:59:37.049000+00:00          3.632   \n",
       "4  100042151807  493239186093 2015-05-20 00:59:37.049000+00:00          3.632   \n",
       "\n",
       "   pickup_latitude  pickup_longitude  driver_latitude  driver_longitude  \\\n",
       "0        -2.965536        104.744296        -2.963353        104.742086   \n",
       "1        -2.965536        104.744296        -2.965061        104.745766   \n",
       "2        -2.965536        104.744296        -2.965304        104.748621   \n",
       "3        -2.965536        104.744296        -2.967921        104.740048   \n",
       "4        -2.965536        104.744296        -2.966512        104.748142   \n",
       "\n",
       "   driver_gps_accuracy  pickup_distance  is_peak  total_failed  \\\n",
       "0               13.653         0.344469        1           4.0   \n",
       "1                3.000         0.171743        1           5.0   \n",
       "2                3.329         0.481516        1           0.0   \n",
       "3               11.954         0.540894        1           9.0   \n",
       "4               13.200         0.441037        1           5.0   \n",
       "\n",
       "   total_completed  \n",
       "0             23.0  \n",
       "1             35.0  \n",
       "2             14.0  \n",
       "3             28.0  \n",
       "4             37.0  "
      ]
     },
     "execution_count": 106,
     "metadata": {},
     "output_type": "execute_result"
    }
   ],
   "source": [
    "test.head()"
   ]
  },
  {
   "cell_type": "markdown",
   "metadata": {},
   "source": [
    "calculate probability of each candidate driver, choose the one with **highest p**"
   ]
  },
  {
   "cell_type": "code",
   "execution_count": 109,
   "metadata": {},
   "outputs": [
    {
     "name": "stdout",
     "output_type": "stream",
     "text": [
      "final output count: 10000\n"
     ]
    }
   ],
   "source": [
    "y_prob = pd.DataFrame(lr_final.predict_proba(X_test)).rename(columns={1: 'prob'})['prob']\n",
    "test_df = pd.concat([test, y_prob], axis=1)\n",
    "\n",
    "idx = test_df.groupby(['order_id'])['prob'].transform(max) == test_df['prob']\n",
    "result = test_df[idx][['order_id', 'driver_id']]\n",
    "\n",
    "print('final output count: %s' % len(result))"
   ]
  },
  {
   "cell_type": "code",
   "execution_count": 115,
   "metadata": {},
   "outputs": [],
   "source": [
    "result.to_csv('../models/phase22.csv', index=False)"
   ]
  },
  {
   "cell_type": "code",
   "execution_count": null,
   "metadata": {},
   "outputs": [],
   "source": []
  }
 ],
 "metadata": {
  "kernelspec": {
   "display_name": "Python 3",
   "language": "python",
   "name": "python3"
  },
  "language_info": {
   "codemirror_mode": {
    "name": "ipython",
    "version": 3
   },
   "file_extension": ".py",
   "mimetype": "text/x-python",
   "name": "python",
   "nbconvert_exporter": "python",
   "pygments_lexer": "ipython3",
   "version": "3.7.2"
  }
 },
 "nbformat": 4,
 "nbformat_minor": 2
}
